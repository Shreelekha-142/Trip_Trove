{
 "cells": [
  {
   "cell_type": "code",
   "execution_count": 1,
   "id": "17174ba2",
   "metadata": {},
   "outputs": [],
   "source": [
    "import pandas as pd\n",
    "\n",
    "# Load the CSV file into a pandas DataFrame\n",
    "df = pd.read_csv('deceptive-opinion.csv')\n",
    "\n",
    "# Get the unique hotel names and count\n",
    "unique_hotels = df['hotel'].unique()\n",
    "num_unique_hotels = len(unique_hotels)\n",
    "\n",
    "# Get the total number of reviews\n",
    "num_reviews = len(df)\n",
    "\n",
    "# Count of reviews for each hotel\n",
    "reviews_per_hotel = df['hotel'].value_counts()\n",
    "\n",
    "# Count of positive and negative reviews\n",
    "positive_reviews = df[df['polarity'] == 'positive'].shape[0]\n",
    "negative_reviews = df[df['polarity'] == 'negative'].shape[0]\n",
    "\n",
    "# Count of truthful and deceptive reviews\n",
    "truthful_reviews = df[df['deceptive'] == 'truthful'].shape[0]\n",
    "deceptive_reviews = df[df['deceptive'] == 'deceptive'].shape[0]\n",
    "\n",
    "# Count of sources: MTurk and TripAdvisor\n",
    "mturk_reviews = df[df['source'] == 'MTurk'].shape[0]\n",
    "tripadvisor_reviews = df[df['source'] == 'TripAdvisor'].shape[0]\n",
    "\n",
    "# Each hotel's count of positive and negative reviews\n",
    "hotel_polarity_count = df.groupby(['hotel', 'polarity']).size().unstack(fill_value=0)\n",
    "\n",
    "# Each hotel's count of source TripAdvisor or MTurk\n",
    "hotel_source_count = df.groupby(['hotel', 'source']).size().unstack(fill_value=0)\n"
   ]
  },
  {
   "cell_type": "code",
   "execution_count": 2,
   "id": "8c20b709",
   "metadata": {},
   "outputs": [
    {
     "name": "stdout",
     "output_type": "stream",
     "text": [
      "Number of unique hotels: 20\n"
     ]
    }
   ],
   "source": [
    "print(f'Number of unique hotels: {num_unique_hotels}')\n"
   ]
  },
  {
   "cell_type": "code",
   "execution_count": 3,
   "id": "c8bcfe02",
   "metadata": {},
   "outputs": [
    {
     "name": "stdout",
     "output_type": "stream",
     "text": [
      "Total number of reviews: 1600\n"
     ]
    }
   ],
   "source": [
    "print(f'Total number of reviews: {num_reviews}')"
   ]
  },
  {
   "cell_type": "code",
   "execution_count": 5,
   "id": "6181254f",
   "metadata": {},
   "outputs": [
    {
     "name": "stdout",
     "output_type": "stream",
     "text": [
      "Reviews per hotel:\n",
      "conrad              80\n",
      "hyatt               80\n",
      "allegro             80\n",
      "intercontinental    80\n",
      "palmer              80\n",
      "sofitel             80\n",
      "monaco              80\n",
      "james               80\n",
      "hilton              80\n",
      "talbott             80\n",
      "hardrock            80\n",
      "affinia             80\n",
      "ambassador          80\n",
      "swissotel           80\n",
      "homewood            80\n",
      "knickerbocker       80\n",
      "sheraton            80\n",
      "fairmont            80\n",
      "omni                80\n",
      "amalfi              80\n",
      "Name: hotel, dtype: int64\n"
     ]
    }
   ],
   "source": [
    "print(f'Reviews per hotel:\\n{reviews_per_hotel}')"
   ]
  },
  {
   "cell_type": "code",
   "execution_count": 6,
   "id": "b4385c0f",
   "metadata": {},
   "outputs": [
    {
     "name": "stdout",
     "output_type": "stream",
     "text": [
      "Number of positive reviews: 800\n",
      "Number of negative reviews: 800\n"
     ]
    }
   ],
   "source": [
    "print(f'Number of positive reviews: {positive_reviews}')\n",
    "print(f'Number of negative reviews: {negative_reviews}')"
   ]
  },
  {
   "cell_type": "code",
   "execution_count": 7,
   "id": "49c0c45f",
   "metadata": {},
   "outputs": [
    {
     "name": "stdout",
     "output_type": "stream",
     "text": [
      "Number of truthful reviews: 800\n",
      "Number of deceptive reviews: 800\n"
     ]
    }
   ],
   "source": [
    "print(f'Number of truthful reviews: {truthful_reviews}')\n",
    "print(f'Number of deceptive reviews: {deceptive_reviews}')"
   ]
  },
  {
   "cell_type": "code",
   "execution_count": 8,
   "id": "60c43d25",
   "metadata": {},
   "outputs": [
    {
     "name": "stdout",
     "output_type": "stream",
     "text": [
      "Number of MTurk reviews: 800\n",
      "Number of TripAdvisor reviews: 400\n"
     ]
    }
   ],
   "source": [
    "print(f'Number of MTurk reviews: {mturk_reviews}')\n",
    "print(f'Number of TripAdvisor reviews: {tripadvisor_reviews}')"
   ]
  },
  {
   "cell_type": "code",
   "execution_count": 10,
   "id": "89620ba8",
   "metadata": {},
   "outputs": [
    {
     "name": "stdout",
     "output_type": "stream",
     "text": [
      "Each hotel's count of positive and negative reviews:\n",
      "polarity          negative  positive\n",
      "hotel                               \n",
      "affinia                 40        40\n",
      "allegro                 40        40\n",
      "amalfi                  40        40\n",
      "ambassador              40        40\n",
      "conrad                  40        40\n",
      "fairmont                40        40\n",
      "hardrock                40        40\n",
      "hilton                  40        40\n",
      "homewood                40        40\n",
      "hyatt                   40        40\n",
      "intercontinental        40        40\n",
      "james                   40        40\n",
      "knickerbocker           40        40\n",
      "monaco                  40        40\n",
      "omni                    40        40\n",
      "palmer                  40        40\n",
      "sheraton                40        40\n",
      "sofitel                 40        40\n",
      "swissotel               40        40\n",
      "talbott                 40        40\n"
     ]
    }
   ],
   "source": [
    "print(f'Each hotel\\'s count of positive and negative reviews:\\n{hotel_polarity_count}')\n"
   ]
  },
  {
   "cell_type": "code",
   "execution_count": 11,
   "id": "3316c6f6",
   "metadata": {},
   "outputs": [
    {
     "name": "stdout",
     "output_type": "stream",
     "text": [
      "Each hotel's count of source TripAdvisor or MTurk:\n",
      "source            MTurk  TripAdvisor  Web\n",
      "hotel                                    \n",
      "affinia              40           20   20\n",
      "allegro              40           20   20\n",
      "amalfi               40           20   20\n",
      "ambassador           40           20   20\n",
      "conrad               40           20   20\n",
      "fairmont             40           20   20\n",
      "hardrock             40           20   20\n",
      "hilton               40           20   20\n",
      "homewood             40           20   20\n",
      "hyatt                40           20   20\n",
      "intercontinental     40           20   20\n",
      "james                40           20   20\n",
      "knickerbocker        40           20   20\n",
      "monaco               40           20   20\n",
      "omni                 40           20   20\n",
      "palmer               40           20   20\n",
      "sheraton             40           20   20\n",
      "sofitel              40           20   20\n",
      "swissotel            40           20   20\n",
      "talbott              40           20   20\n"
     ]
    }
   ],
   "source": [
    "print(f'Each hotel\\'s count of source TripAdvisor or MTurk:\\n{hotel_source_count}')"
   ]
  },
  {
   "cell_type": "code",
   "execution_count": 12,
   "id": "ec4b6e6c",
   "metadata": {},
   "outputs": [
    {
     "name": "stdout",
     "output_type": "stream",
     "text": [
      "Accuracy: 0.8625\n"
     ]
    }
   ],
   "source": [
    "import pandas as pd\n",
    "from sklearn.model_selection import train_test_split\n",
    "from sklearn.feature_extraction.text import TfidfVectorizer\n",
    "from sklearn.linear_model import LogisticRegression\n",
    "from sklearn.metrics import accuracy_score\n",
    "\n",
    "# Load the CSV file\n",
    "df = pd.read_csv('deceptive-opinion.csv')\n",
    "\n",
    "# Preprocess the data (optional steps might include stemming, lemmatization, etc.)\n",
    "# For simplicity, we will just use the text as is.\n",
    "\n",
    "# Split the data into features and target label\n",
    "X = df['text']  # the features we want to analyze\n",
    "y = df['deceptive']  # the labels we want to predict\n",
    "\n",
    "# Split the data into training and test sets\n",
    "X_train, X_test, y_train, y_test = train_test_split(X, y, test_size=0.2, random_state=42)\n",
    "\n",
    "# Convert text data into numerical vectors using TF-IDF\n",
    "vectorizer = TfidfVectorizer()\n",
    "X_train_tfidf = vectorizer.fit_transform(X_train)\n",
    "X_test_tfidf = vectorizer.transform(X_test)\n",
    "\n",
    "# Train a classifier, e.g., Logistic Regression\n",
    "classifier = LogisticRegression()\n",
    "classifier.fit(X_train_tfidf, y_train)\n",
    "\n",
    "# Predict on the test set\n",
    "predictions = classifier.predict(X_test_tfidf)\n",
    "\n",
    "# Evaluate the classifier\n",
    "accuracy = accuracy_score(y_test, predictions)\n",
    "print(f'Accuracy: {accuracy}')\n",
    "\n",
    "# Filter out the deceptive reviews\n",
    "df['predicted_label'] = classifier.predict(vectorizer.transform(df['text']))\n",
    "filtered_df = df[df['predicted_label'] == 'truthful']"
   ]
  },
  {
   "cell_type": "code",
   "execution_count": 3,
   "id": "936970c2",
   "metadata": {},
   "outputs": [
    {
     "name": "stdout",
     "output_type": "stream",
     "text": [
      "Accuracy: 0.8625\n"
     ]
    }
   ],
   "source": [
    "import os\n",
    "import pandas as pd\n",
    "from sklearn.model_selection import train_test_split\n",
    "from sklearn.feature_extraction.text import TfidfVectorizer\n",
    "from sklearn.linear_model import LogisticRegression\n",
    "from sklearn.metrics import accuracy_score  # Add this import statement\n",
    "import joblib\n",
    "\n",
    "# Load your dataset\n",
    "df = pd.read_csv('deceptive-opinion.csv')\n",
    "\n",
    "# Split the data into features and target label\n",
    "X = df['text']  # Features\n",
    "y = df['deceptive']  # Target label\n",
    "\n",
    "# Split the data into training and test sets\n",
    "X_train, X_test, y_train, y_test = train_test_split(X, y, test_size=0.2, random_state=42)\n",
    "\n",
    "# Convert text data into numerical vectors using TF-IDF\n",
    "vectorizer = TfidfVectorizer()\n",
    "X_train_tfidf = vectorizer.fit_transform(X_train)\n",
    "X_test_tfidf = vectorizer.transform(X_test)\n",
    "\n",
    "# Train a classifier, e.g., Logistic Regression\n",
    "classifier = LogisticRegression()\n",
    "classifier.fit(X_train_tfidf, y_train)\n",
    "\n",
    "# Create the 'models/' directory if it doesn't exist\n",
    "os.makedirs('models/', exist_ok=True)\n",
    "\n",
    "# Save the trained classifier and vectorizer\n",
    "joblib.dump(classifier, 'models/classifier.pkl')\n",
    "joblib.dump(vectorizer, 'models/vectorizer.pkl')\n",
    "\n",
    "# Evaluate the classifier if needed\n",
    "predictions = classifier.predict(X_test_tfidf)\n",
    "accuracy = accuracy_score(y_test, predictions)\n",
    "print(f'Accuracy: {accuracy}')\n"
   ]
  },
  {
   "cell_type": "code",
   "execution_count": null,
   "id": "c43bf77d",
   "metadata": {},
   "outputs": [],
   "source": []
  },
  {
   "cell_type": "code",
   "execution_count": null,
   "id": "960f4592",
   "metadata": {},
   "outputs": [],
   "source": []
  }
 ],
 "metadata": {
  "kernelspec": {
   "display_name": "Python 3 (ipykernel)",
   "language": "python",
   "name": "python3"
  },
  "language_info": {
   "codemirror_mode": {
    "name": "ipython",
    "version": 3
   },
   "file_extension": ".py",
   "mimetype": "text/x-python",
   "name": "python",
   "nbconvert_exporter": "python",
   "pygments_lexer": "ipython3",
   "version": "3.9.12"
  }
 },
 "nbformat": 4,
 "nbformat_minor": 5
}
